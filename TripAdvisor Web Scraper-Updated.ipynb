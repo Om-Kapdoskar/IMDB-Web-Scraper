{
 "cells": [
  {
   "cell_type": "code",
   "execution_count": 1,
   "id": "e1747dd8",
   "metadata": {},
   "outputs": [],
   "source": [
    "from selenium import webdriver\n",
    "from bs4 import BeautifulSoup\n",
    "from webdriver_manager.chrome import ChromeDriverManager\n",
    "import pandas as pd"
   ]
  },
  {
   "cell_type": "code",
   "execution_count": 12,
   "id": "c5de361f",
   "metadata": {},
   "outputs": [],
   "source": [
    "scrape_url = \"https://www.tripadvisor.in/Restaurants-g187497-Barcelona_Catalonia.html\"\n",
    "data = []"
   ]
  },
  {
   "cell_type": "code",
   "execution_count": 13,
   "id": "44e4e1c2",
   "metadata": {},
   "outputs": [
    {
     "name": "stderr",
     "output_type": "stream",
     "text": [
      "C:\\Users\\Om Kapdoskar\\AppData\\Local\\Temp\\ipykernel_18068\\935422914.py:1: DeprecationWarning: executable_path has been deprecated, please pass in a Service object\n",
      "  driver = webdriver.Chrome(ChromeDriverManager().install())\n"
     ]
    }
   ],
   "source": [
    "driver = webdriver.Chrome(ChromeDriverManager().install())\n",
    "driver.get(scrape_url)\n",
    "soup = BeautifulSoup(driver.page_source)"
   ]
  },
  {
   "cell_type": "code",
   "execution_count": 15,
   "id": "3760c602",
   "metadata": {},
   "outputs": [],
   "source": [
    "restaurants = soup.find_all(\"div\", class_=\"RfBGI\")\n",
    "for restaurant in restaurants:\n",
    "    name = restaurant.find(\"a\").text\n",
    "    url = \"https://www.tripadvisor.in\"+restaurant.find(\"a\")['href']\n",
    "    driver.get(url)\n",
    "    soup2 = BeautifulSoup(driver.page_source)\n",
    "    data.append({\n",
    "        \"name\":name\n",
    "        ,\"rank\":soup2.find_all(\"span\",class_=\"DsyBj cNFrA\")[0].text\n",
    "        ,\"Pricing/Cuisine\":soup2.find(\"span\",class_=\"DsyBj DxyfE\").text\n",
    "        ,\"address\":soup2.find(\"span\",class_=\"yEWoV\").text\n",
    "        ,\"contact\":soup2.find_all(\"span\",class_=\"DsyBj cNFrA\")[2].text\n",
    "        ,\"url\":url\n",
    "    })"
   ]
  },
  {
   "cell_type": "code",
   "execution_count": 16,
   "id": "94ad14ad",
   "metadata": {},
   "outputs": [
    {
     "name": "stderr",
     "output_type": "stream",
     "text": [
      "C:\\Users\\Om Kapdoskar\\AppData\\Local\\Temp\\ipykernel_18068\\23987708.py:4: FutureWarning: save is not part of the public API, usage can give in unexpected results and will be removed in a future version\n",
      "  file.save()\n"
     ]
    }
   ],
   "source": [
    "df = pd.DataFrame(data)\n",
    "file = pd.ExcelWriter('./barcelona_restaurants.xlsx')\n",
    "df.to_excel(file, index=False)\n",
    "file.save()"
   ]
  },
  {
   "cell_type": "code",
   "execution_count": null,
   "id": "b61dd6b9",
   "metadata": {},
   "outputs": [],
   "source": []
  },
  {
   "cell_type": "code",
   "execution_count": null,
   "id": "0fb011d2",
   "metadata": {},
   "outputs": [],
   "source": []
  }
 ],
 "metadata": {
  "kernelspec": {
   "display_name": "Python 3 (ipykernel)",
   "language": "python",
   "name": "python3"
  },
  "language_info": {
   "codemirror_mode": {
    "name": "ipython",
    "version": 3
   },
   "file_extension": ".py",
   "mimetype": "text/x-python",
   "name": "python",
   "nbconvert_exporter": "python",
   "pygments_lexer": "ipython3",
   "version": "3.10.7"
  }
 },
 "nbformat": 4,
 "nbformat_minor": 5
}
